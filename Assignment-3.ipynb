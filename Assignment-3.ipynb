{
 "cells": [
  {
   "cell_type": "code",
   "execution_count": 1,
   "id": "121668b1",
   "metadata": {},
   "outputs": [
    {
     "name": "stdout",
     "output_type": "stream",
     "text": [
      "0\n",
      "1\n",
      "2\n",
      "4\n",
      "5\n"
     ]
    }
   ],
   "source": [
    "#1) Write a Python program that prints all the numbers from 0 to 6 except 3 and 6.\n",
    "#for loop\n",
    "for p in range(0,7):\n",
    "    if p==3 or p==6:\n",
    "        continue\n",
    "    print(p)\n",
    "\n"
   ]
  },
  {
   "cell_type": "code",
   "execution_count": 2,
   "id": "5cf63ade",
   "metadata": {},
   "outputs": [
    {
     "name": "stdout",
     "output_type": "stream",
     "text": [
      "0\n",
      "1\n",
      "2\n",
      "4\n",
      "5\n"
     ]
    }
   ],
   "source": [
    "#While loop\n",
    "x=True\n",
    "while x:\n",
    "    for num in range(0,7):\n",
    "        if num==3 or num==6:\n",
    "            continue\n",
    "        print(num)\n",
    "        x=False\n"
   ]
  },
  {
   "cell_type": "code",
   "execution_count": 4,
   "id": "867ab440",
   "metadata": {},
   "outputs": [
    {
     "name": "stdout",
     "output_type": "stream",
     "text": [
      "Enter your number : 99\n",
      "Total = 4950\n"
     ]
    }
   ],
   "source": [
    "#2) Write a program to accept a number from a user and calculate the sum of all numbers from 1 to a given number\n",
    "#for loop\n",
    "number=int(input(\"Enter your number:\"))\n",
    "total=0\n",
    "for i in range(0,number+1):\n",
    "    total+=i\n",
    "print(\"Total = {}\".format(total))"
   ]
  },
  {
   "cell_type": "code",
   "execution_count": 6,
   "id": "91e2096f",
   "metadata": {},
   "outputs": [
    {
     "name": "stdout",
     "output_type": "stream",
     "text": [
      "Enter your number:99\n",
      "Total = 4950\n"
     ]
    }
   ],
   "source": [
    "#while loop\n",
    "number=int(input(\"Enter your number:\"))\n",
    "total=0\n",
    "x=True\n",
    "while x:\n",
    "    for i in range(0,number+1):\n",
    "        total+=i\n",
    "    print(\"Total = {}\".format(total))\n",
    "    x=False\n"
   ]
  },
  {
   "cell_type": "code",
   "execution_count": 8,
   "id": "a0753a96",
   "metadata": {},
   "outputs": [
    {
     "name": "stdout",
     "output_type": "stream",
     "text": [
      "Enter your number:9\n",
      "9 x 1 = 9\n",
      "9 x 2 = 18\n",
      "9 x 3 = 27\n",
      "9 x 4 = 36\n",
      "9 x 5 = 45\n",
      "9 x 6 = 54\n",
      "9 x 7 = 63\n",
      "9 x 8 = 72\n",
      "9 x 9 = 81\n",
      "9 x 10 = 90\n"
     ]
    }
   ],
   "source": [
    " #3.)Write a program to print multiplication table of a given number(input)\n",
    "#for loop\n",
    "\n",
    "num=int(input(\"Enter your number:\"))\n",
    "for i in range(1,11):\n",
    "    print(\"{} x {} = {}\".format(num,i,num*i))"
   ]
  },
  {
   "cell_type": "code",
   "execution_count": 9,
   "id": "7cd8a47d",
   "metadata": {},
   "outputs": [
    {
     "name": "stdout",
     "output_type": "stream",
     "text": [
      "Enter your number:9\n",
      "9 x 1 = 9\n",
      "9 x 2 = 18\n",
      "9 x 3 = 27\n",
      "9 x 4 = 36\n",
      "9 x 5 = 45\n",
      "9 x 6 = 54\n",
      "9 x 7 = 63\n",
      "9 x 8 = 72\n",
      "9 x 9 = 81\n",
      "9 x 10 = 90\n"
     ]
    }
   ],
   "source": [
    "#While loop\n",
    "num=int(input(\"Enter your number:\"))\n",
    "x=True\n",
    "while x:\n",
    "    for i in range(1,11):\n",
    "        print(\"{} x {} = {}\".format(num,i,num*i))\n",
    "        x=False"
   ]
  },
  {
   "cell_type": "code",
   "execution_count": 11,
   "id": "91630a1d",
   "metadata": {},
   "outputs": [
    {
     "name": "stdout",
     "output_type": "stream",
     "text": [
      "Number of digits: 4\n"
     ]
    }
   ],
   "source": [
    "#4) Write a program to count the total number of digits in a number using a while loop.\n",
    "#while loop\n",
    "num = 3452\n",
    "count = 0\n",
    "while num != 0:\n",
    "    num //= 10\n",
    "    count += 1\n",
    "print(\"Number of digits: \" + str(count))"
   ]
  },
  {
   "cell_type": "code",
   "execution_count": 12,
   "id": "b0817ce3",
   "metadata": {},
   "outputs": [
    {
     "name": "stdout",
     "output_type": "stream",
     "text": [
      "Enter Your number: 56897\n",
      "Length of 56897 is : 5\n"
     ]
    }
   ],
   "source": [
    "#for loop\n",
    "num=input(\"Enter Your number: \")\n",
    "a=0\n",
    "for i in num:\n",
    "    a+=1\n",
    "print(\"Length of {} is : {}\".format(num,a)) "
   ]
  },
  {
   "cell_type": "code",
   "execution_count": 13,
   "id": "413e1b9c",
   "metadata": {},
   "outputs": [
    {
     "name": "stdout",
     "output_type": "stream",
     "text": [
      "Please provide any number here : 1\n",
      "Enter your number:2\n",
      "Enter your number:3\n",
      "Enter your number:4\n",
      "guessed!\n"
     ]
    }
   ],
   "source": [
    "#5) Write a Python program to guess a number between 1 to 6\n",
    "#while loop\n",
    "num=int(input(\"Enter your number:\"))\n",
    "from random import shuffle\n",
    "t=(1,2,3,4,5,6)\n",
    "shuffle(dice)\n",
    "x=True\n",
    "while x:\n",
    "    if dice[0]==num:\n",
    "        print(\"guessed!\")\n",
    "        x=False\n",
    "    else:\n",
    "        num=int(input(\"Enter your number:\"))\n",
    "        continue"
   ]
  },
  {
   "cell_type": "code",
   "execution_count": 2,
   "id": "e9c8c4cc",
   "metadata": {},
   "outputs": [
    {
     "name": "stdout",
     "output_type": "stream",
     "text": [
      "Enter your number:1\n",
      "Enter your number: 2\n",
      "Enter your number: 3\n",
      "Enter your number: 4\n",
      "Enter your number: 5\n",
      "Guessed!\n"
     ]
    }
   ],
   "source": [
    "# for loop\n",
    "num=int(input(\"Enter your number:\"))\n",
    "from random import shuffle\n",
    "dice=[1,2,3,4,5,6]\n",
    "shuffle(dice)\n",
    "for i in dice:\n",
    "    if dice[0]==num:\n",
    "        print(\"Guessed!\")\n",
    "        break\n",
    "    else:\n",
    "        num=int(input(\"Enter your number: \"))\n",
    "        continue\n"
   ]
  },
  {
   "cell_type": "code",
   "execution_count": 11,
   "id": "d1ac9411",
   "metadata": {},
   "outputs": [
    {
     "name": "stdout",
     "output_type": "stream",
     "text": [
      "[1, 2, 'Fizz', 4, 'Buzz', 'Fizz', 7, 8, 'Fizz', 'Buzz', 11, 'Fizz', 13, 14, 'FizzBuzz', 16, 17, 'Fizz', 19, 'Buzz', 'Fizz', 22, 23, 'Fizz', 'Buzz', 26, 'Fizz', 28, 29, 'FizzBuzz', 31, 32, 'Fizz', 34, 'Buzz', 'Fizz', 37, 38, 'Fizz', 'Buzz', 41, 'Fizz', 43, 44, 'FizzBuzz', 46, 47, 'Fizz', 49, 'Buzz', 'Fizz', 52, 53, 'Fizz', 'Buzz', 56, 'Fizz', 58, 59, 'FizzBuzz']\n"
     ]
    }
   ],
   "source": [
    "#6) Write a Python program which iterates the integers from 1 to 60. For multiples of three print \"Fizz\" instead of the number and for the multiples of five print \"Buzz\". For numbers which are multiples of both three and five print \"FizzBuzz\".\n",
    "#for loop\n",
    "a=[]\n",
    "for num in range(1,61):\n",
    "    if num%3==0 and num%5==0:\n",
    "        a.append(\"FizzBuzz\")\n",
    "    elif num%3==0:\n",
    "        a.append(\"Fizz\")\n",
    "    elif num%5==0:\n",
    "        a.append(\"Buzz\")\n",
    "    else:\n",
    "        a.append(num)\n",
    "print(a)"
   ]
  },
  {
   "cell_type": "code",
   "execution_count": 12,
   "id": "90129141",
   "metadata": {},
   "outputs": [
    {
     "name": "stdout",
     "output_type": "stream",
     "text": [
      "[1, 2, 'Fizz', 4, 'Buzz', 'Fizz', 7, 8, 'Fizz', 'Buzz', 11, 'Fizz', 13, 14, 'FizzBuzz', 16, 17, 'Fizz', 19, 'Buzz', 'Fizz', 22, 23, 'Fizz', 'Buzz', 26, 'Fizz', 28, 29, 'FizzBuzz', 31, 32, 'Fizz', 34, 'Buzz', 'Fizz', 37, 38, 'Fizz', 'Buzz', 41, 'Fizz', 43, 44, 'FizzBuzz', 46, 47, 'Fizz', 49, 'Buzz', 'Fizz', 52, 53, 'Fizz', 'Buzz', 56, 'Fizz', 58, 59, 'FizzBuzz']\n"
     ]
    }
   ],
   "source": [
    "#while loop\n",
    "x=True\n",
    "a=[]\n",
    "while x:\n",
    "    for num in range(1,61):\n",
    "        if num%3==0 and num%5==0:\n",
    "            a.append(\"FizzBuzz\")\n",
    "        elif num%3==0:\n",
    "            a.append(\"Fizz\")\n",
    "        elif num%5==0:\n",
    "            a.append(\"Buzz\")\n",
    "        else:\n",
    "            a.append(num)\n",
    "    x=False\n",
    "print(a)\n"
   ]
  },
  {
   "cell_type": "code",
   "execution_count": 3,
   "id": "7a44bced",
   "metadata": {},
   "outputs": [
    {
     "name": "stdout",
     "output_type": "stream",
     "text": [
      "enter your str: 9.2\n",
      "Digits in 9.2 : 2\n",
      "Letters in 9.2 : 0\n"
     ]
    }
   ],
   "source": [
    "#7) Write a Python program that accepts a string and calculate \n",
    "#the number of digits and letters\n",
    "#Example:\n",
    "#Input\n",
    "#Python 3.2 \n",
    "#Output\n",
    "#Letters 6\n",
    "#Digits 2\n",
    "#for loop\n",
    "string=input(\"enter your str: \")\n",
    "digit=0\n",
    "letters=0\n",
    "for elements in string:\n",
    "    if elements.isdigit():\n",
    "        digit+=1\n",
    "    elif elements.isalpha():\n",
    "        letters+=1\n",
    "print(\"Digits in {} : {}\".format(string,digit))\n",
    "print(\"Letters in {} : {}\".format(string,letters))"
   ]
  },
  {
   "cell_type": "code",
   "execution_count": 6,
   "id": "ea9e7949",
   "metadata": {},
   "outputs": [
    {
     "name": "stdout",
     "output_type": "stream",
     "text": [
      "Enter your str:9.2\n",
      "Digits in 9.2 : 2\n",
      "Letters in 9.2 : 0\n"
     ]
    }
   ],
   "source": [
    "#while loop\n",
    "string=input(\"Enter your str:\")\n",
    "digit=0\n",
    "letters=0\n",
    "x=True\n",
    "while x:\n",
    "    for elements in string:\n",
    "        if elements.isdigit():\n",
    "            digit+=1\n",
    "        elif elements.isalpha():\n",
    "            letters+=1\n",
    "    x=False\n",
    "print(\"Digits in {} : {}\".format(string,digit))\n",
    "print(\"Letters in {} : {}\".format(string,letters))"
   ]
  },
  {
   "cell_type": "code",
   "execution_count": 8,
   "id": "024430ff",
   "metadata": {},
   "outputs": [
    {
     "name": "stdout",
     "output_type": "stream",
     "text": [
      "Hemanthdugga@1926\n",
      "Your Password length is greater than limits, Please reduce some charecters\n"
     ]
    }
   ],
   "source": [
    "\n",
    "#8) Write a Python program to check the validity of password input by users. \n",
    "#Validation:\n",
    "#At least 1 letter between [a-z] and 1 letter between [A-Z].\n",
    "#At least 1 number between [0-9]. \n",
    "#At least 1 character from [$#@].\n",
    "#Minimum length 6 characters.\n",
    "#Maximum length 16 characters\n",
    "#for loop\n",
    "password=input()\n",
    "lowercase=0\n",
    "uppercase=0\n",
    "num=0\n",
    "sym=0\n",
    "symbol=[\"@\",\"$\",\"#\"]\n",
    "for elements in password:\n",
    "    if elements.isalpha():\n",
    "        if elements==elements.upper():\n",
    "            uppercase+=1\n",
    "        elif elements==elements.lower():\n",
    "            lowercase+=1\n",
    "    elif elements in symbol:\n",
    "        sym+=1\n",
    "    elif int(elements) in range(0,10):\n",
    "        num+=1\n",
    "if len(password)<6:\n",
    "    print(\"Your Password must contain atleast 6 charecters\")\n",
    "elif len(password)>16:\n",
    "    print(\"Your Password length is greater than limits, Please reduce some charecters\")\n",
    "elif num==0:\n",
    "    print(\"Please include numbers inside your password\")\n",
    "elif uppercase==0:\n",
    "    print(\"Please include upperr case letters inside your password\")\n",
    "elif lowercase==0:\n",
    "    print(\"Please include lower case letters inside your password\")\n",
    "else:\n",
    "    print(\"OK\\nYou have given valid Password.\")"
   ]
  },
  {
   "cell_type": "code",
   "execution_count": 22,
   "id": "24e7910c",
   "metadata": {},
   "outputs": [
    {
     "name": "stdout",
     "output_type": "stream",
     "text": [
      "Enter : \n",
      "10hem\n",
      "meh01 \n"
     ]
    }
   ],
   "source": [
    "# 9) Write a program in Python to reverse a word by using while loop\n",
    "\n",
    "\n",
    "print(\"Enter : \")\n",
    "word=input()\n",
    "length=len(word)\n",
    "reverse=\"\"\n",
    "while length > 0:\n",
    "    reverse+=word[length-1]\n",
    "    length=length-1\n",
    "print(\"{} \".format(reverse))"
   ]
  },
  {
   "cell_type": "code",
   "execution_count": 9,
   "id": "808328c4",
   "metadata": {},
   "outputs": [
    {
     "name": "stdout",
     "output_type": "stream",
     "text": [
      "enter 10 values to findout their average :\n",
      "1\n",
      "2\n",
      "3\n",
      "3\n",
      "4\n",
      "5\n",
      "6\n",
      "7\n",
      "8\n",
      "9\n",
      "The average of given numbers = 4.8\n"
     ]
    }
   ],
   "source": [
    "# 10) Write a program which takes 10 integers as input using loop and print their average value on the screen\n",
    "\n",
    "\n",
    "print(\"enter 10 values to findout their average :\")\n",
    "a=[]\n",
    "x=True\n",
    "while x:\n",
    "    num=int(input())\n",
    "    a.append(num)\n",
    "    if len(a)==10:\n",
    "        x=False\n",
    "    else:\n",
    "        continue\n",
    "total=sum(a)\n",
    "print(\"The average of given numbers = {}\".format(total/len(a)))\n"
   ]
  },
  {
   "cell_type": "code",
   "execution_count": 10,
   "id": "3abfee98",
   "metadata": {},
   "outputs": [
    {
     "name": "stdout",
     "output_type": "stream",
     "text": [
      "enter numbers in the provided boxes findout their average and the product :\n",
      "give a number : 44\n",
      "if you want to exit press - q\n",
      "give a number : 66\n",
      "if you want to exit press - q\n",
      "give a number : 89\n",
      "if you want to exit press - q\n",
      "give a number : 55\n",
      "if you want to exit press - q\n",
      "give a number : 88\n",
      "if you want to exit press - q\n",
      "give a number : 77\n",
      "if you want to exit press - q\n",
      "give a number : 99\n",
      "if you want to exit press - q\n",
      "give a number : 55\n",
      "if you want to exit press - q\n",
      "give a number : 7\n",
      "if you want to exit press - q\n",
      "give a number : 55\n",
      "if you want to exit press - q\n",
      "give a number : 55\n",
      "if you want to exit press - q\n",
      "give a number : 99\n",
      "if you want to exit press - q\n",
      "give a number : 77\n",
      "if you want to exit press - q\n",
      "give a number : 66\n",
      "if you want to exit press - q\n",
      "give a number : 66\n",
      "if you want to exit press - q\n",
      "give a number : 88\n",
      "if you want to exit press - q\n",
      "give a number : 94\n",
      "if you want to exit press - q\n",
      "give a number : 92\n",
      "if you want to exit press - q\n",
      "give a number : 556\n",
      "if you want to exit press - q\n",
      "give a number : 55\n",
      "if you want to exit press - q\n",
      "give a number : 55\n",
      "if you want to exit press - q\n",
      "give a number : 556\n",
      "if you want to exit press - q\n",
      "give a number : q\n",
      "\n",
      "Product = 262440656019077065014857180988985344000000\n",
      "Average = 113.36363636363636\n"
     ]
    }
   ],
   "source": [
    "# 11) Write a program which takes integer inputs from user until he/she presses “q” (Ask to press q to quit after every integer input). Print average and product of all numbers.\n",
    "\n",
    "\n",
    "print(\"enter numbers in the provided boxes findout their average and the product :\")\n",
    "numbers=[]\n",
    "newnum=[]\n",
    "product=1\n",
    "while True:\n",
    "    num=input(\"give a number : \")\n",
    "    if num==\"q\":\n",
    "        break\n",
    "    print(\"if you want to exit press - q\")\n",
    "    numbers.append(num)\n",
    "for j in numbers:\n",
    "    a=int(j)\n",
    "    newnum.append(a)\n",
    "for i in newnum:\n",
    "    product=product*i\n",
    "total=sum(newnum)\n",
    "average=total/len(newnum)\n",
    "print(\"\\nProduct = {}\".format(product))\n",
    "print(\"Average = {}\".format(average))"
   ]
  },
  {
   "cell_type": "code",
   "execution_count": 11,
   "id": "4df96772",
   "metadata": {},
   "outputs": [
    {
     "name": "stdout",
     "output_type": "stream",
     "text": [
      "Type your input here : hemanth@1926\n",
      "hemanth\n"
     ]
    }
   ],
   "source": [
    "# 12) Write a Python program which will remove all digits or any other characters from the string except alphabets\n",
    "#for loop\n",
    "name=input(\"Type your input here : \")\n",
    "new=\"\"\n",
    "for letters in name:\n",
    "    if letters.isalpha():\n",
    "        new+=letters\n",
    "    else:\n",
    "        continue\n",
    "print(new)\n"
   ]
  },
  {
   "cell_type": "code",
   "execution_count": 13,
   "id": "46778325",
   "metadata": {},
   "outputs": [
    {
     "name": "stdout",
     "output_type": "stream",
     "text": [
      "Type your input here : Hemanth@1926\n",
      "Hemanth\n"
     ]
    }
   ],
   "source": [
    "#While loop\n",
    "name=input(\"Type your input here : \")\n",
    "new=\"\"\n",
    "x=True\n",
    "while x:\n",
    "    for letters in name:\n",
    "        if letters.isalpha():\n",
    "            new+=letters\n",
    "        else:\n",
    "            continue\n",
    "    x=False\n",
    "print(new)\n"
   ]
  },
  {
   "cell_type": "code",
   "execution_count": 15,
   "id": "752500b0",
   "metadata": {},
   "outputs": [
    {
     "name": "stdout",
     "output_type": "stream",
     "text": [
      "Sum of all even numbers from 0 to 10 are :-. 30\n"
     ]
    }
   ],
   "source": [
    "#13) Write a python program to find the sum of all even numbers from 0 to 10\n",
    "#for loop\n",
    "total=0\n",
    "for num in range(0,11):\n",
    "    if num%2==0:\n",
    "        total+=num\n",
    "print(\"Sum of all even numbers from 0 to 10 are :-. {}\".format(total))"
   ]
  },
  {
   "cell_type": "code",
   "execution_count": 16,
   "id": "0ae24955",
   "metadata": {},
   "outputs": [
    {
     "name": "stdout",
     "output_type": "stream",
     "text": [
      "Sum of all even numbers from 0 to 10 are :-. 30\n"
     ]
    }
   ],
   "source": [
    "#While loop\n",
    "total=0\n",
    "x=True\n",
    "while x:\n",
    "    for num in range(0,11):\n",
    "        if num%2==0:\n",
    "            total+=num\n",
    "    x=False\n",
    "print(\"Sum of all even numbers from 0 to 10 are :-. {}\".format(total))    \n"
   ]
  },
  {
   "cell_type": "code",
   "execution_count": 17,
   "id": "a536977a",
   "metadata": {},
   "outputs": [
    {
     "name": "stdout",
     "output_type": "stream",
     "text": [
      "Enter a number, so that you can get all the numbers which are before it till zero.\n",
      "Provide a number : 45\n",
      "45\n",
      "44\n",
      "43\n",
      "42\n",
      "41\n",
      "40\n",
      "39\n",
      "38\n",
      "37\n",
      "36\n",
      "35\n",
      "34\n",
      "33\n",
      "32\n",
      "31\n",
      "30\n",
      "29\n",
      "28\n",
      "27\n",
      "26\n",
      "25\n",
      "24\n",
      "23\n",
      "22\n",
      "21\n",
      "20\n",
      "19\n",
      "18\n",
      "17\n",
      "16\n",
      "15\n",
      "14\n",
      "13\n",
      "12\n",
      "11\n",
      "10\n",
      "9\n",
      "8\n",
      "7\n",
      "6\n",
      "5\n",
      "4\n",
      "3\n",
      "2\n",
      "1\n",
      "0\n"
     ]
    }
   ],
   "source": [
    "#14) Write a python program which will accept a digit and print All the numbers before it till 0\n",
    "\n",
    "print(\"Enter a number, so that you can get all the numbers which are before it till zero.\")\n",
    "number=int(input(\"Provide a number : \"))\n",
    "\n",
    "while number>=0:\n",
    "    print(number)\n",
    "    number-=1"
   ]
  },
  {
   "cell_type": "code",
   "execution_count": 18,
   "id": "d5457f19",
   "metadata": {},
   "outputs": [
    {
     "name": "stdout",
     "output_type": "stream",
     "text": [
      "num 1 : 55\n",
      "choose any symbol from +,-,*,/ : *\n",
      "num 2 : 6\n",
      "55 * 6 = 330\n",
      "Press c to close : c\n"
     ]
    }
   ],
   "source": [
    "\n",
    "# 15) Create a dynamic calculator which will run continuasly till you press “c”\n",
    "\n",
    "\n",
    "a=int(input(\"num 1 : \"))\n",
    "x=input(\"choose any symbol from +,-,*,/ : \")\n",
    "b=int(input(\"num 2 : \"))\n",
    "while True:\n",
    "    if x==\"+\":\n",
    "        print(\"{} {} {} = {}\".format(a,x,b,a+b))\n",
    "    elif x==\"-\":\n",
    "        print(\"{} {} {} = {}\".format(a,x,b,a-b))\n",
    "    elif x==\"*\":\n",
    "        print(\"{} {} {} = {}\".format(a,x,b,a*b))\n",
    "    elif x==\"/\":\n",
    "        print(\"{} {} {} = {}\".format(a,x,b,a/b))\n",
    "    new=input(\"Press c to close : \")\n",
    "    if new==\"c\" or new==\"C\":\n",
    "        break"
   ]
  },
  {
   "cell_type": "code",
   "execution_count": null,
   "id": "9590c187",
   "metadata": {},
   "outputs": [],
   "source": []
  }
 ],
 "metadata": {
  "kernelspec": {
   "display_name": "Python 3 (ipykernel)",
   "language": "python",
   "name": "python3"
  },
  "language_info": {
   "codemirror_mode": {
    "name": "ipython",
    "version": 3
   },
   "file_extension": ".py",
   "mimetype": "text/x-python",
   "name": "python",
   "nbconvert_exporter": "python",
   "pygments_lexer": "ipython3",
   "version": "3.9.13"
  }
 },
 "nbformat": 4,
 "nbformat_minor": 5
}
